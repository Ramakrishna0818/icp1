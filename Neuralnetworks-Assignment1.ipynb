{
  "nbformat": 4,
  "nbformat_minor": 0,
  "metadata": {
    "colab": {
      "provenance": []
    },
    "kernelspec": {
      "name": "python3",
      "display_name": "Python 3"
    },
    "language_info": {
      "name": "python"
    }
  },
  "cells": [
    {
      "cell_type": "code",
      "source": [
        " #Write a python program for the following:\n",
        "# Input the string “Python” as a list of characters from console, delete at least 2 characters, reverse the resultant string and print it.\n",
        "\n",
        "s = input(\"Enter the name of the language :\")\n",
        "\n",
        "x =list(s.strip())\n",
        "print(type(x))\n",
        "print(x)\n",
        "x.pop(-2)\n",
        "x.pop(-2)\n",
        "\n",
        "print(x)\n",
        "x.reverse()\n",
        "s = ''.join(x)\n",
        "print(s)"
      ],
      "metadata": {
        "colab": {
          "base_uri": "https://localhost:8080/"
        },
        "id": "0U0hstINm53O",
        "outputId": "c7cd9ed8-269a-49de-f4cf-565cb70ca3ec"
      },
      "execution_count": 8,
      "outputs": [
        {
          "output_type": "stream",
          "name": "stdout",
          "text": [
            "Enter the name of the language :python\n",
            "<class 'list'>\n",
            "['p', 'y', 't', 'h', 'o', 'n']\n",
            "['p', 'y', 't', 'n']\n",
            "ntyp\n"
          ]
        }
      ]
    },
    {
      "cell_type": "code",
      "source": [
        "#Take two numbers from user and perform at least 4 arithmetic operations on them.\n",
        "\n",
        "num1 = int(input(\"Enter first number: \")) # user input1 and typecasting the the entered string into integer\n",
        "num2 = int(input(\"Enter second number: \")) # user input2\n",
        "\n",
        "#Printing the result for 4 arithmetic operations\n",
        "print(\"Division: \",num1 / num2) # simple Division\n",
        "print(\"Floor Division: \",num1 // num2) # floor Division\n",
        "print(\"Modulus: \", num1 % num2) # Modulus\n",
        "print(\"Exponentiation: \",num1 ** num2) # Exponentiation"
      ],
      "metadata": {
        "colab": {
          "base_uri": "https://localhost:8080/"
        },
        "id": "F49HryfXnx_C",
        "outputId": "151f3a42-06ac-47aa-f1c7-499617ed9bf4"
      },
      "execution_count": 13,
      "outputs": [
        {
          "output_type": "stream",
          "name": "stdout",
          "text": [
            "Enter first number: 23\n",
            "Enter second number: 43\n",
            "Division:  0.5348837209302325\n",
            "Floor Division:  0\n",
            "Modulus:  23\n",
            "Exponentiation:  35834136918934220777541995677272642015423987712183913488967\n"
          ]
        }
      ]
    },
    {
      "cell_type": "code",
      "source": [
        "#Write a program that accepts a sentence and replace each occurrence of ‘python’ with ‘pythons’.\n",
        "# declaring a string variable\n",
        "str = input(\"Enter the sentence :\")\n",
        "\n",
        "# replacing string python with pythons\n",
        "str = str.replace('python', 'pythons')\n",
        "print(\"Modified string : \")\n",
        "print(str)"
      ],
      "metadata": {
        "colab": {
          "base_uri": "https://localhost:8080/"
        },
        "id": "b0ChuuRlnDMl",
        "outputId": "9fcdd211-ac7c-4234-b2d7-f12ccd038e15"
      },
      "execution_count": 11,
      "outputs": [
        {
          "output_type": "stream",
          "name": "stdout",
          "text": [
            "Enter the sentence :i love playing with python\n",
            "Modified string : \n",
            "i love playing with pythons\n"
          ]
        }
      ]
    },
    {
      "cell_type": "code",
      "source": [
        "#Use the if statement conditions to write a program to print the letter grade based on an input class score. Use the grading scheme we are using in this class.\n",
        "\n",
        "grade = int(input(\"Enter the grade of the person: \"))\n",
        "if grade >= 90:\n",
        "    print(\"A grade\")\n",
        "\n",
        "elif grade >=80:\n",
        "    print(\"B grade\")\n",
        "\n",
        "elif grade >=70:\n",
        "    print(\"C grade\")\n",
        "\n",
        "elif grade >= 60:\n",
        "    print(\"D grade\")\n",
        "\n",
        "else:\n",
        "    print(\"Fail grade\")"
      ],
      "metadata": {
        "colab": {
          "base_uri": "https://localhost:8080/"
        },
        "id": "ng47IOW0nZ3Z",
        "outputId": "81d48db9-7496-4496-f86c-6461806ac284"
      },
      "execution_count": 12,
      "outputs": [
        {
          "output_type": "stream",
          "name": "stdout",
          "text": [
            "Enter the grade of the person: 67\n",
            "D grade\n"
          ]
        }
      ]
    }
  ]
}